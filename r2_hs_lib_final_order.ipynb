{
 "cells": [
  {
   "cell_type": "code",
   "execution_count": 41,
   "id": "db4cfd21",
   "metadata": {},
   "outputs": [],
   "source": [
    "import os\n",
    "import pandas as pd\n",
    "import re\n",
    "import random"
   ]
  },
  {
   "cell_type": "code",
   "execution_count": 49,
   "id": "b71f5c3e",
   "metadata": {},
   "outputs": [],
   "source": [
    "r1_hs_seqs_path = '/Users/stephaniecrilly/Library/CloudStorage/Box-Box/kortemmelab/home/scrilly/helix_sliding/20231212_final_analysis_r1_order/20231221_final_order/20231221_all_design_sets_r1_order.csv'\n",
    "r2_ssd_seqs_path = '/Users/stephaniecrilly/Library/CloudStorage/Box-Box/kortemmelab/home/scrilly/helix_sliding/20250604_r2_hs_lib/metric_files/ssd/ssd_designs_passing.csv'\n",
    "r2_msd_seqs_path = '/Users/stephaniecrilly/Library/CloudStorage/Box-Box/kortemmelab/home/scrilly/helix_sliding/20250604_r2_hs_lib/metric_files/msd/msd_designs_passing.csv'\n",
    "r2_msd_exp_bbs_seqs_path = '/Users/stephaniecrilly/Library/CloudStorage/Box-Box/kortemmelab/home/scrilly/helix_sliding/20250604_r2_hs_lib/metric_files/msd_exp_bbs/exp_bbs_msd_designs_passing.csv'\n",
    "r2_msd_scale_up_seqs_path = '/Users/stephaniecrilly/Library/CloudStorage/Box-Box/kortemmelab/home/scrilly/helix_sliding/20250604_r2_hs_lib/metric_files/msd_f2s_os_scaled_up/outputs/msd_designs_passing.csv'\n",
    "\n",
    "outdir = '/Users/stephaniecrilly/Library/CloudStorage/Box-Box/kortemmelab/home/scrilly/helix_sliding/20250604_r2_hs_lib/final_order'"
   ]
  },
  {
   "cell_type": "markdown",
   "id": "c2d41ff6",
   "metadata": {},
   "source": [
    "Single state designs"
   ]
  },
  {
   "cell_type": "code",
   "execution_count": null,
   "id": "24fb9153",
   "metadata": {},
   "outputs": [
    {
     "name": "stdout",
     "output_type": "stream",
     "text": [
      "R2 SSD designs: 495\n"
     ]
    }
   ],
   "source": [
    "r2_ssd_df = pd.read_csv(r2_ssd_seqs_path)\n",
    "print(f'R2 SSD designs: {r2_ssd_df.shape[0]}')\n",
    "\n",
    "r2_ssd_df['design_class'] = r2_ssd_df['state_design'] + '-' + r2_ssd_df['seq_method']\n",
    "#make a shortname column that is the design class plus a number that increases for each row\n",
    "r2_ssd_df['shortname'] = r2_ssd_df['design_class'] + '-' + r2_ssd_df.index.astype(str)\n",
    "\n",
    "#get shortname and seqeunce column only\n",
    "r2_ssd_short_df = r2_ssd_df[['shortname', 'sequence']]"
   ]
  },
  {
   "cell_type": "markdown",
   "id": "467d0323",
   "metadata": {},
   "source": [
    "Multistate designs\n",
    "#load files\n",
    "#add seq design type column\n",
    "#give shortened name\n",
    "#concat dfs"
   ]
  },
  {
   "cell_type": "code",
   "execution_count": null,
   "id": "b9de5ea9",
   "metadata": {},
   "outputs": [
    {
     "name": "stdout",
     "output_type": "stream",
     "text": [
      "R2 MSD for designable bbs designs: 121\n",
      "Unique bb pairs for R2 MSD F2S scaled up designs: 65\n",
      "R2 MSD for experimental bbs designs: 153\n",
      "Unique bb pairs for R2 MSD exp bbs designs: 1\n",
      "R2 MSD for F2S scaled up designs: 326\n",
      "Unique bb pairs for R2 MSD F2S scaled up designs: 58\n"
     ]
    }
   ],
   "source": [
    "####MSD for designable bbs####\n",
    "r2_msd_df = pd.read_csv(r2_msd_seqs_path)\n",
    "print(f'R2 MSD for designable bbs designs: {r2_msd_df.sequence.nunique()}')\n",
    "\n",
    "#make a shortname column that is the design class plus a number that increases for each row\n",
    "r2_msd_df['design_class'] = r2_msd_df['state_design_min0'] + '-' + r2_msd_df['seq_design_method_min0'].str.lower()\n",
    "r2_msd_df['shortname'] = r2_msd_df['design_class'] + '-' + r2_msd_df.index.astype(str)\n",
    "\n",
    "#make new column for bb id pair\n",
    "r2_msd_df['msd_bbs_id'] = r2_msd_df['min0_bb_id_min0'] + r2_msd_df['min2_bb_id_min0']\n",
    "print(f\"Unique bb pairs for R2 MSD F2S scaled up designs: {r2_msd_df['msd_bbs_id'].nunique()}\") #may be an overestimate bc of diff naming conventions\n",
    "r2_msd_short_df = r2_msd_df[['shortname', 'sequence']]\n",
    "\n",
    "####MSD for experimental bbs####\n",
    "r2_msd_exp_bbs_df = pd.read_csv(r2_msd_exp_bbs_seqs_path)\n",
    "print(f'R2 MSD for experimental bbs designs: {r2_msd_exp_bbs_df.sequence.nunique()}')   \n",
    "\n",
    "#make a shortname column that is the design class plus a number that increases for each row\n",
    "r2_msd_exp_bbs_df['design_class'] = r2_msd_exp_bbs_df['state_design_min0'] + '-' + r2_msd_exp_bbs_df['seq_design_method_min0'].str.lower()\n",
    "r2_msd_exp_bbs_df['shortname'] = r2_msd_exp_bbs_df['design_class'] + '-' + r2_msd_exp_bbs_df.index.astype(str)\n",
    "print(f'Unique bb pairs for R2 MSD exp bbs designs: 1')\n",
    "r2_msd_exp_bbs_short_df = r2_msd_exp_bbs_df[['shortname', 'sequence']]\n",
    "\n",
    "####MSD F2S scaled up####\n",
    "r2_msd_scale_up_df = pd.read_csv(r2_msd_scale_up_seqs_path)\n",
    "print(f'R2 MSD for F2S scaled up designs: {r2_msd_scale_up_df.sequence.nunique()}')\n",
    "\n",
    "#make a shortname column that is the design class plus a number that increases for each row\n",
    "r2_msd_scale_up_df['design_class'] = r2_msd_scale_up_df['state_design_min0'] + '-' + r2_msd_scale_up_df['seq_design_method_min0'].str.lower()\n",
    "r2_msd_scale_up_df['shortname'] = r2_msd_scale_up_df['design_class'] + '-' + r2_msd_scale_up_df.index.astype(str)\n",
    "print(f\"Unique bb pairs for R2 MSD F2S scaled up designs: {r2_msd_scale_up_df['msd_bbs_id_min0'].nunique()}\")\n",
    "r2_msd_scale_up_short_df = r2_msd_scale_up_df[['shortname', 'sequence']]\n"
   ]
  },
  {
   "cell_type": "markdown",
   "id": "69311b9e",
   "metadata": {},
   "source": [
    "Multistate predicted as only one state"
   ]
  },
  {
   "cell_type": "code",
   "execution_count": null,
   "id": "b7daef0b",
   "metadata": {},
   "outputs": [
    {
     "name": "stdout",
     "output_type": "stream",
     "text": [
      "Number of MSD designs predicted to min0 passing stringent filters: 9446\n",
      "Number of MSD designs predicted to min2 passing stringent filters: 572\n",
      "(250, 40) (250, 40)\n"
     ]
    }
   ],
   "source": [
    "#for ones predicted in only one state filter more stringently\n",
    "#sample 15% from every set\n",
    "#add seq design type column\n",
    "#give shortened name\n",
    "#concat dfs\n",
    "\n",
    "#take MSD sequences that are low RMSD to only one state, refilter for plddt > 90 and see how many\n",
    "r2_msd_min0_path = '/Users/stephaniecrilly/Library/CloudStorage/Box-Box/kortemmelab/home/scrilly/helix_sliding/20250604_r2_hs_lib/metric_files/msd/msd_designs_passing_min0_only.csv'\n",
    "r2_msd_min2_path = '/Users/stephaniecrilly/Library/CloudStorage/Box-Box/kortemmelab/home/scrilly/helix_sliding/20250604_r2_hs_lib/metric_files/msd/msd_designs_passing_min2_only.csv'\n",
    "\n",
    "r2_msd_min0_df = pd.read_csv(r2_msd_min0_path)\n",
    "r2_msd_min0_df = r2_msd_min0_df.query('avg_plddt_no_loop > 90  & min0_all_rmsd_no_loop < 1.0 & avg_pae_no_loop < 5', engine='python').copy()\n",
    "print(f'Number of MSD designs predicted to min0 passing stringent filters: {r2_msd_min0_df.sequence.nunique()}')\n",
    "r2_msd_min0_df_subset = r2_msd_min0_df.sample(n=250, axis=0, random_state=42)\n",
    "\n",
    "\n",
    "#make design class and shortname columns\n",
    "\n",
    "\n",
    "r2_msd_min2_df = pd.read_csv(r2_msd_min2_path)\n",
    "r2_msd_min2_df = r2_msd_min2_df.query('avg_plddt_no_loop > 90  & min2_all_rmsd_no_loop < 1.0  & avg_pae_no_loop < 5', engine='python').copy()\n",
    "print(f'Number of MSD designs predicted to min2 passing stringent filters: {r2_msd_min2_df.sequence.nunique()}')\n",
    "r2_msd_min2_df_subset = r2_msd_min2_df.sample(n=250, axis=0, random_state=42)\n"
   ]
  },
  {
   "cell_type": "code",
   "execution_count": null,
   "id": "5a118678",
   "metadata": {},
   "outputs": [],
   "source": [
    "#concat all ssd and msd and calculate max pairwise seq identity"
   ]
  },
  {
   "cell_type": "markdown",
   "id": "ba18caa1",
   "metadata": {},
   "source": [
    "Control sequences"
   ]
  },
  {
   "cell_type": "code",
   "execution_count": null,
   "id": "73373e3a",
   "metadata": {},
   "outputs": [
    {
     "data": {
      "text/plain": [
       "(34, 2)"
      ]
     },
     "execution_count": 7,
     "metadata": {},
     "output_type": "execute_result"
    }
   ],
   "source": [
    "#make df with additional control seqs from Bram and 375 and point mutants\n",
    "#TODO: add alfa tag mutants with bm01 ctrl, add more conservative ad to ala\n",
    "bespoke_ctrls_dict = {'bmp38' : 'GARLAQLKQERAALKQRLAALDQEIAALEWQIQSDPRKKQLYQRLLALISDRFALEQRIAALDQEIAALEAG', \n",
    "                 'bmp53' : 'GARLEELIAERLRLVGDLVDLDREIAALEQQIQSDPRKKQLEQRLAALKQERAALEQRIAALDWEIADLDDG', \n",
    "                 'bmp31' : 'GARLAQLKQERAALKQRLAALDQEIAALEWQIQSDPRKKQLEQRLAALKQERAALEQRIAALDQEIAALEAG', \n",
    "                 'bmp36' : 'GARLAQLKQERAALEQRLAALDQEIAALEWQIQSDPRKKQLEQKLLELQAERLRLIGDIVNLDQQILNLEAG', \n",
    "                 'bmp42' : 'GARLAQLKQERAALKQRLDALDQEIAALEWQIQSDPRKKQLYQRLLELIGERLALMGDIFELDVEIAALEAG', \n",
    "                 'bmp45' : 'GARLAQLKQERAALKQRLEALDQEIAALEWQIQSDPRKKQLLQRLYELFGERLALFGDIFDLDVEIAALEAG', \n",
    "                 'bmp51' : 'GARLAQLKQERAALKQRLDALEQEIAALEWQIQSDPRKKQLQQRLRQLYGERLRLESDIFDLDVEIAALEAG', \n",
    "                 'bmp57' : 'GARLAQLKQERAALKQRLEALDQEIAALEWQIQSDPRKKQLLQRLRRLYGERLALFGDIFDLDVEIAALEAG', \n",
    "                 'bmp23' : 'GARLAQLKQERAALKQRLAALDQEIAALEWQIQSPDRKKQLEQRLAALKQERAALEQRIAALDQEIAALEAG',\n",
    "                 '375' : 'EELKRIEEEIAAIEREIARAEEKLKAQESDPRKKGLQAEREKLLEKLAELRKERERLSRLEEELRRRLTELRRRLE',\n",
    "                 '375-R74W' : 'EELKRIEEEIAAIEREIARAEEKLKAQESDPRKKGLQAEREKLLEKLAELRKERERLSRLEEELRRRLTELRRWLE',\n",
    "                 '375-L75W' : 'EELKRIEEEIAAIEREIARAEEKLKAQESDPRKKGLQAEREKLLEKLAELRKERERLSRLEEELRRRLTELRRRWE',\n",
    "                 '375-77W' : 'EELKRIEEEIAAIEREIARAEEKLKAQESDPRKKGLQAEREKLLEKLAELRKERERLSRLEEELRRRLTELRRRLEW',\n",
    "                 '375-QatF' : 'QELKRIEQEIAAIEQEIARAEQKLKAQESDPRKKGLQAEREKLLEKLAELRKERERLSRLEEELRRRLTELRRRLEW',\n",
    "                 '375-QatF-cdel' : 'QELKRIEQEIAAIEQEIARAEQKLKAQESDPRKKGLQAEREKLLEKLAELRKERERLSRLEEELRRRLTE',\n",
    "                 '375-ad-to-A' : 'EEAKRAEEEAAAAEREAARAEEKAKAQESDPRKKGLQAEAEKALEKAAEARKEAERASRLEEELRRRLTELRRRLE',\n",
    "                 '375-ad-to-A-cdel' : 'EEAKRAEEEAAAAEREAARAEEKAKAQESDPRKKGLQAEAEKALEKAAEARKEAERASRLEEELRRRLTE', \n",
    "                 '375-cdel' : 'EELKRIEEEIAAIEREIARAEEKLKAQESDPRKKGLQAEREKLLEKLAELRKERERLSRLEEELRRRLTE', \n",
    "                 '375-G53Q' : 'EELKRIEEEIAAIEREIARAEEKLKAQESDPRKKQLQAEREKLLEKLAELRKERERLSRLEEELRRRLTELRRRLE', \n",
    "                 '375-G35Q-cdel' : 'EELKRIEEEIAAIEREIARAEEKLKAQESDPRKKQLQAEREKLLEKLAELRKERERLSRLEEELRRRLTE', \n",
    "                 '375-E14Q' : 'EELKRIEEEIAAIQREIARAEEKLKAQESDPRKKGLQAEREKLLEKLAELRKERERLSRLEEELRRRLTELRRRLE', \n",
    "                 '375-E14Q-cdel' : 'EELKRIEEEIAAIQREIARAEEKLKAQESDPRKKGLQAEREKLLEKLAELRKERERLSRLEEELRRRLTE', \n",
    "                 '375-E14Q-G35Q' : 'EELKRIEEEIAAIQREIARAEEKLKAQESDPRKKQLQAEREKLLEKLAELRKERERLSRLEEELRRRLTELRRRLE',\n",
    "                 '375-E14Q-G35Q-cdel' : 'EELKRIEEEIAAIQREIARAEEKLKAQESDPRKKQLQAEREKLLEKLAELRKERERLSRLEEELRRRLTE',\n",
    "                 '375-G35A' : 'EELKRIEEEIAAIEREIARAEEKLKAQESDPRKKALQAEREKLLEKLAELRKERERLSRLEEELRRRLTELRRRLE', \n",
    "                 '375-G35A-cdel' : 'EELKRIEEEIAAIEREIARAEEKLKAQESDPRKKALQAEREKLLEKLAELRKERERLSRLEEELRRRLTE', \n",
    "                 '375-L39P' : 'EELKRIEEEIAAIEREIARAEEKLKAQESDPRKKGPQAEREKLLEKLAELRKERERLSRLEEELRRRLTELRRRLE',\n",
    "                 '375-L39P-cdel' : 'EELKRIEEEIAAIEREIARAEEKLKAQESDPRKKGPQAEREKLLEKLAELRKERERLSRLEEELRRRLTE',\n",
    "                 '375-L36K' : 'EELKRIEEEIAAIEREIARAEEKLKAQESDPRKKGKQAEREKLLEKLAELRKERERLSRLEEELRRRLTELRRRLE',\n",
    "                 '375-L36K-cdel' : 'EELKRIEEEIAAIEREIARAEEKLKAQESDPRKKGKQAEREKLLEKLAELRKERERLSRLEEELRRRLTE',\n",
    "                 '375-L36Q' : 'EELKRIEEEIAAIEREIARAEEKLKAQESDPRKKGQQAEREKLLEKLAELRKERERLSRLEEELRRRLTELRRRLE',\n",
    "                 '375-L36Q-cdel' : 'EELKRIEEEIAAIEREIARAEEKLKAQESDPRKKGQQAEREKLLEKLAELRKERERLSRLEEELRRRLTE',\n",
    "                 '375-ALFA-LtoA' : 'EELKRIEEEIAAIEREIARAEEKLKAQESDPRKKGLQAEREKLLEKLAELRKERERLSRAEEEARRRATELRRRLE',\n",
    "                 '375-ALFA-LtoA-cdel' : 'EELKRIEEEIAAIEREIARAEEKLKAQESDPRKKGLQAEREKLLEKLAELRKERERLSRAEEEARRRATE'}\n",
    "\n",
    "#make df with columns 'Name and 'sequence' from dict\n",
    "bespoke_ctrls_df = pd.DataFrame.from_dict(bespoke_ctrls_dict, orient='index', columns=['sequence']).reset_index().rename(columns={'index': 'Name'})\n",
    "bespoke_ctrls_df.shape"
   ]
  },
  {
   "cell_type": "code",
   "execution_count": null,
   "id": "9c93827c",
   "metadata": {},
   "outputs": [],
   "source": [
    "#control seq functions\n",
    "\n",
    "####Heptad a and d to Ala####\n",
    "def heptad_to_upper(input_string, split_char = 'r '):\n",
    "    split_1 = input_string.split(split_char)[0]\n",
    "    split_2 = input_string.split(split_char)[1]\n",
    "    split_2 = split_2.upper()\n",
    "    \n",
    "    new_string = split_1+split_char+split_2\n",
    "\n",
    "    return new_string\n",
    "\n",
    "\n",
    "def heptad_a_d_to_ala(reg_string, seq_string):\n",
    "\n",
    "    og_seq = re.split(r'\\s+', seq_string)[1]\n",
    "    \n",
    "    for index, char in enumerate(reg_string):\n",
    "        if char.isupper():\n",
    "            if char in ['A', 'D']:\n",
    "                seq_string = seq_string[:index] + 'A' + seq_string[index+1:]\n",
    "            else:\n",
    "                continue\n",
    "    \n",
    "    new_seq = re.split(r'\\s+', seq_string)[1]\n",
    "\n",
    "    return og_seq, new_seq\n",
    "\n",
    "\n",
    "def a_d_to_ala(input_df):\n",
    "\n",
    "    new_seqs_dict = {}\n",
    "\n",
    "    for index, row in input_df.iterrows():\n",
    "        design_id = row['design_id']\n",
    "\n",
    "        h1_reg = row['h1_reg']\n",
    "        new_h1_reg = heptad_to_upper(h1_reg)\n",
    "\n",
    "        h1_seq = row['h1_seq']\n",
    "\n",
    "        h1_og, h1_new = heptad_a_d_to_ala(new_h1_reg, h1_seq)\n",
    "\n",
    "        h2_reg = row['h2_reg']\n",
    "        new_h2_reg = heptad_to_upper(h2_reg)\n",
    "\n",
    "        h2_seq = row['h2_seq']\n",
    "\n",
    "        h2_og, h2_new = heptad_a_d_to_ala(new_h2_reg, h2_seq)\n",
    "\n",
    "        #replace with ala seq in sequence\n",
    "        sequence = row['sequence']\n",
    "        new_sequence = sequence.replace(h1_og, h1_new)\n",
    "        new_sequence = new_sequence.replace(h2_og, h2_new)\n",
    "\n",
    "        new_seqs_dict[design_id] = new_sequence\n",
    "\n",
    "    new_df = input_df.copy()\n",
    "    new_df['a_d_to_ala_sequence'] = new_df['design_id'].map(new_seqs_dict)\n",
    "\n",
    "    return new_df\n",
    "\n",
    "####\n",
    "\n",
    "####SCRAMBLE CONTROLS####\n",
    "def full_scrambler(sequence_list):\n",
    "    '''function for full scrambles use random.sample\n",
    "    Takes a list of original design sequences\n",
    "    Outputs a dictionary with original seq and fully scrambled seq as key:value pair'''\n",
    "\n",
    "    full_scramble_dict = {}\n",
    "    for seq in sequence_list:\n",
    "        residues = list(seq)\n",
    "        sc_residues = random.sample(residues, k=len(residues))\n",
    "        sc_seq = ''.join(sc_residues)\n",
    "        full_scramble_dict[seq] = sc_seq\n",
    "    return full_scramble_dict\n",
    "\n",
    "def patterned_scrambler(sequence_list):\n",
    "    '''Function for creating patterned scrambled designs\n",
    "    In which hydrophobic or polar residues are shuffled to different positions with the same h or p character\n",
    "    prolines and glycines are kept in original positions\n",
    "    based on criteria described in in Rocklin, et al. 2017\n",
    "    Takes a list of original design sequences\n",
    "    Outputs a data frame with the original sequence, pattern of H/P/Pro/Gly, and the patterned scramble sequence'''\n",
    "\n",
    "    patterned_scramble_dict = {}\n",
    "    #Rocklin term these polar if they occur in a helix: D, E, H, K, N, Q, R, S, T, or Y\n",
    "    #A, F, I, L, M, V, W, and Y used to count number of hydrophobic aa\n",
    "    #I just used hydrophobic and polar definitions from default resfile categories\n",
    "    hydrophobics_list = ['A', 'F', 'I', 'L', 'M', 'V', 'W', 'Y']\n",
    "    polar_list = ['D', 'E', 'H', 'K', 'N', 'Q', 'R', 'S', 'T']\n",
    "    seq_pattern_dict = {}\n",
    "\n",
    "    for seq in sequence_list:\n",
    "        residues = list(seq)\n",
    "        patterned_res = []\n",
    "        hydrophobic_residues = []\n",
    "        polar_residues = []\n",
    "        patterned_scramble_res = []\n",
    "        for res in residues:\n",
    "            if res == 'P':\n",
    "                patterned_res.append('Pro')\n",
    "\n",
    "            elif res == 'G':\n",
    "                patterned_res.append('G')\n",
    "\n",
    "            elif res in hydrophobics_list:\n",
    "                patterned_res.append('H')\n",
    "                hydrophobic_residues.append(res)\n",
    "\n",
    "            elif res in polar_list:\n",
    "                patterned_res.append('P')\n",
    "                polar_residues.append(res)\n",
    "\n",
    "            else:\n",
    "                print('Cys found!')\n",
    "\n",
    "        seq_pattern = ''.join(patterned_res)\n",
    "        seq_pattern_dict[seq] = seq_pattern\n",
    "\n",
    "        for res in patterned_res:\n",
    "\n",
    "            if res == 'Pro':\n",
    "                patterned_scramble_res.append('P')\n",
    "            elif res == 'G':\n",
    "                patterned_scramble_res.append('G')\n",
    "            elif res == 'H':\n",
    "                l = random.randint(0, len(hydrophobic_residues)-1)\n",
    "                r = hydrophobic_residues.pop(l)\n",
    "                patterned_scramble_res.append(r)\n",
    "            elif res == 'P':\n",
    "                l = random.randint(0, len(polar_residues)-1)\n",
    "                r = polar_residues.pop(l)\n",
    "                patterned_scramble_res.append(r)\n",
    "        pattern_scramble_seq = ''.join(patterned_scramble_res)\n",
    "        patterned_scramble_dict[seq] = pattern_scramble_seq\n",
    "\n",
    "    df_name_pattern = pd.DataFrame.from_dict(seq_pattern_dict, orient='index', columns=['Seq HP pattern'])\n",
    "    df_name_pattern.index.name = 'Insert protein sequence'\n",
    "    df_name_pattern.reset_index(inplace=True)\n",
    "\n",
    "    df_name_pattern_sc = pd.DataFrame.from_dict(patterned_scramble_dict, orient='index', columns=['Patterned scramble insert protein sequence'])\n",
    "    df_name_pattern_sc.index.name = 'Insert protein sequence'\n",
    "    df_name_pattern_sc.reset_index(inplace=True)\n",
    "\n",
    "    df = pd.merge(df_name_pattern, df_name_pattern_sc, on='Insert protein sequence')\n",
    "\n",
    "    return df\n",
    "\n",
    "####"
   ]
  },
  {
   "cell_type": "markdown",
   "id": "9600fb03",
   "metadata": {},
   "source": [
    "#200 patterned scramble\n",
    "#200 full scramble\n",
    "#200 a and d to Ala \n",
    "#split 50 each MPNN and F2s and SSD and MSD"
   ]
  },
  {
   "cell_type": "code",
   "execution_count": 40,
   "id": "99e2420c",
   "metadata": {},
   "outputs": [
    {
     "name": "stdout",
     "output_type": "stream",
     "text": [
      "register       ABCDEFGABCDEFGABCDEFGABCD          \n",
      "('PLREKLLELKERLKELLELKLEELSRLEEELRRRLTEEERR', 'PLREKLAELAERLAELAELKAEEASRLAEEARRRLTEEERR')\n"
     ]
    }
   ],
   "source": [
    "test_heptad = 'register       abcdefgabcdefgabcdefgabcd          '\n",
    "test_str = 'sequence PLREKLLELKERLKELLELKLEELSRLEEELRRRLTEEERR'\n",
    "\n",
    "import re\n",
    "new_heptad = heptad_to_upper(test_heptad)\n",
    "print(new_heptad)\n",
    "\n",
    "\n",
    "test_dict = heptad_a_d_to_ala(new_heptad, test_str)\n",
    "print(test_dict)\n",
    "\n",
    "#need to exclude alfa tag: onyl change a and d for min2 state and don't need to worry about this\n",
    "\n",
    "test_df = pd.read_csv('/Users/stephaniecrilly/Library/CloudStorage/Box-Box/kortemmelab/home/scrilly/helix_sliding/20250604_r2_hs_lib/metric_files/msd/msd_designs_passing_min2_only.csv')\n",
    "\n",
    "new_test_df = a_d_to_ala(test_df)\n",
    "new_test_df.to_csv('/Users/stephaniecrilly/Downloads/test_a_d_to_ala.csv', index=False)"
   ]
  },
  {
   "cell_type": "code",
   "execution_count": null,
   "id": "e4d2c7ee",
   "metadata": {},
   "outputs": [],
   "source": [
    "#generate post alfa truncated seqs from r1_hs_seqs and all others\n",
    "#then remove any of duplciates already in r2_ssd (should be 64)\n",
    "\n",
    "#add in nucleotide sequences for round 1 designs at the very end"
   ]
  }
 ],
 "metadata": {
  "kernelspec": {
   "display_name": "plotting",
   "language": "python",
   "name": "python3"
  },
  "language_info": {
   "codemirror_mode": {
    "name": "ipython",
    "version": 3
   },
   "file_extension": ".py",
   "mimetype": "text/x-python",
   "name": "python",
   "nbconvert_exporter": "python",
   "pygments_lexer": "ipython3",
   "version": "3.10.14"
  }
 },
 "nbformat": 4,
 "nbformat_minor": 5
}
