{
 "cells": [
  {
   "cell_type": "code",
   "execution_count": 29,
   "id": "db4cfd21",
   "metadata": {},
   "outputs": [],
   "source": [
    "import os\n",
    "import pandas as pd\n",
    "import re"
   ]
  },
  {
   "cell_type": "code",
   "execution_count": 2,
   "id": "b71f5c3e",
   "metadata": {},
   "outputs": [],
   "source": [
    "r1_hs_seqs_path = '/Users/stephaniecrilly/Library/CloudStorage/Box-Box/kortemmelab/home/scrilly/helix_sliding/20231212_final_analysis_r1_order/20231221_final_order/20231221_all_design_sets_r1_order.csv'\n",
    "r2_ssd_seqs_path = '/Users/stephaniecrilly/Library/CloudStorage/Box-Box/kortemmelab/home/scrilly/helix_sliding/20250604_r2_hs_lib/metric_files/ssd/ssd_designs_passing.csv'\n",
    "r2_msd_seqs_path = '/Users/stephaniecrilly/Library/CloudStorage/Box-Box/kortemmelab/home/scrilly/helix_sliding/20250604_r2_hs_lib/metric_files/msd/msd_designs_passing.csv'\n",
    "r2_msd_exp_bbs_seqs_path = '/Users/stephaniecrilly/Library/CloudStorage/Box-Box/kortemmelab/home/scrilly/helix_sliding/20250604_r2_hs_lib/metric_files/msd_exp_bbs/exp_bbs_msd_designs_passing.csv'\n",
    "r2_msd_scale_up_seqs_path = ''\n",
    "\n",
    "outdir = '/Users/stephaniecrilly/Library/CloudStorage/Box-Box/kortemmelab/home/scrilly/helix_sliding/20250604_r2_hs_lib/final_order'"
   ]
  },
  {
   "cell_type": "code",
   "execution_count": 7,
   "id": "73373e3a",
   "metadata": {},
   "outputs": [
    {
     "data": {
      "text/plain": [
       "(34, 2)"
      ]
     },
     "execution_count": 7,
     "metadata": {},
     "output_type": "execute_result"
    }
   ],
   "source": [
    "#make df with additional control seqs from Bram and 375 and point mutants\n",
    "bespoke_ctrls_dict = {'bmp38' : 'GARLAQLKQERAALKQRLAALDQEIAALEWQIQSDPRKKQLYQRLLALISDRFALEQRIAALDQEIAALEAG', \n",
    "                 'bmp53' : 'GARLEELIAERLRLVGDLVDLDREIAALEQQIQSDPRKKQLEQRLAALKQERAALEQRIAALDWEIADLDDG', \n",
    "                 'bmp31' : 'GARLAQLKQERAALKQRLAALDQEIAALEWQIQSDPRKKQLEQRLAALKQERAALEQRIAALDQEIAALEAG', \n",
    "                 'bmp36' : 'GARLAQLKQERAALEQRLAALDQEIAALEWQIQSDPRKKQLEQKLLELQAERLRLIGDIVNLDQQILNLEAG', \n",
    "                 'bmp42' : 'GARLAQLKQERAALKQRLDALDQEIAALEWQIQSDPRKKQLYQRLLELIGERLALMGDIFELDVEIAALEAG', \n",
    "                 'bmp45' : 'GARLAQLKQERAALKQRLEALDQEIAALEWQIQSDPRKKQLLQRLYELFGERLALFGDIFDLDVEIAALEAG', \n",
    "                 'bmp51' : 'GARLAQLKQERAALKQRLDALEQEIAALEWQIQSDPRKKQLQQRLRQLYGERLRLESDIFDLDVEIAALEAG', \n",
    "                 'bmp57' : 'GARLAQLKQERAALKQRLEALDQEIAALEWQIQSDPRKKQLLQRLRRLYGERLALFGDIFDLDVEIAALEAG', \n",
    "                 'bmp23' : 'GARLAQLKQERAALKQRLAALDQEIAALEWQIQSPDRKKQLEQRLAALKQERAALEQRIAALDQEIAALEAG',\n",
    "                 '375' : 'EELKRIEEEIAAIEREIARAEEKLKAQESDPRKKGLQAEREKLLEKLAELRKERERLSRLEEELRRRLTELRRRLE',\n",
    "                 '375-R74W' : 'EELKRIEEEIAAIEREIARAEEKLKAQESDPRKKGLQAEREKLLEKLAELRKERERLSRLEEELRRRLTELRRWLE',\n",
    "                 '375-L75W' : 'EELKRIEEEIAAIEREIARAEEKLKAQESDPRKKGLQAEREKLLEKLAELRKERERLSRLEEELRRRLTELRRRWE',\n",
    "                 '375-77W' : 'EELKRIEEEIAAIEREIARAEEKLKAQESDPRKKGLQAEREKLLEKLAELRKERERLSRLEEELRRRLTELRRRLEW',\n",
    "                 '375-QatF' : 'QELKRIEQEIAAIEQEIARAEQKLKAQESDPRKKGLQAEREKLLEKLAELRKERERLSRLEEELRRRLTELRRRLEW',\n",
    "                 '375-QatF-cdel' : 'QELKRIEQEIAAIEQEIARAEQKLKAQESDPRKKGLQAEREKLLEKLAELRKERERLSRLEEELRRRLTE',\n",
    "                 '375-ad-to-A' : 'EEAKRAEEEAAAAEREAARAEEKAKAQESDPRKKGLQAEAEKALEKAAEARKEAERASRLEEELRRRLTELRRRLE',\n",
    "                 '375-ad-to-A-cdel' : 'EEAKRAEEEAAAAEREAARAEEKAKAQESDPRKKGLQAEAEKALEKAAEARKEAERASRLEEELRRRLTE', \n",
    "                 '375-cdel' : 'EELKRIEEEIAAIEREIARAEEKLKAQESDPRKKGLQAEREKLLEKLAELRKERERLSRLEEELRRRLTE', \n",
    "                 '375-G53Q' : 'EELKRIEEEIAAIEREIARAEEKLKAQESDPRKKQLQAEREKLLEKLAELRKERERLSRLEEELRRRLTELRRRLE', \n",
    "                 '375-G35Q-cdel' : 'EELKRIEEEIAAIEREIARAEEKLKAQESDPRKKQLQAEREKLLEKLAELRKERERLSRLEEELRRRLTE', \n",
    "                 '375-E14Q' : 'EELKRIEEEIAAIQREIARAEEKLKAQESDPRKKGLQAEREKLLEKLAELRKERERLSRLEEELRRRLTELRRRLE', \n",
    "                 '375-E14Q-cdel' : 'EELKRIEEEIAAIQREIARAEEKLKAQESDPRKKGLQAEREKLLEKLAELRKERERLSRLEEELRRRLTE', \n",
    "                 '375-E14Q-G35Q' : 'EELKRIEEEIAAIQREIARAEEKLKAQESDPRKKQLQAEREKLLEKLAELRKERERLSRLEEELRRRLTELRRRLE',\n",
    "                 '375-E14Q-G35Q-cdel' : 'EELKRIEEEIAAIQREIARAEEKLKAQESDPRKKQLQAEREKLLEKLAELRKERERLSRLEEELRRRLTE',\n",
    "                 '375-G35A' : 'EELKRIEEEIAAIEREIARAEEKLKAQESDPRKKALQAEREKLLEKLAELRKERERLSRLEEELRRRLTELRRRLE', \n",
    "                 '375-G35A-cdel' : 'EELKRIEEEIAAIEREIARAEEKLKAQESDPRKKALQAEREKLLEKLAELRKERERLSRLEEELRRRLTE', \n",
    "                 '375-L39P' : 'EELKRIEEEIAAIEREIARAEEKLKAQESDPRKKGPQAEREKLLEKLAELRKERERLSRLEEELRRRLTELRRRLE',\n",
    "                 '375-L39P-cdel' : 'EELKRIEEEIAAIEREIARAEEKLKAQESDPRKKGPQAEREKLLEKLAELRKERERLSRLEEELRRRLTE',\n",
    "                 '375-L36K' : 'EELKRIEEEIAAIEREIARAEEKLKAQESDPRKKGKQAEREKLLEKLAELRKERERLSRLEEELRRRLTELRRRLE',\n",
    "                 '375-L36K-cdel' : 'EELKRIEEEIAAIEREIARAEEKLKAQESDPRKKGKQAEREKLLEKLAELRKERERLSRLEEELRRRLTE',\n",
    "                 '375-L36Q' : 'EELKRIEEEIAAIEREIARAEEKLKAQESDPRKKGQQAEREKLLEKLAELRKERERLSRLEEELRRRLTELRRRLE',\n",
    "                 '375-L36Q-cdel' : 'EELKRIEEEIAAIEREIARAEEKLKAQESDPRKKGQQAEREKLLEKLAELRKERERLSRLEEELRRRLTE',\n",
    "                 '375-ALFA-LtoA' : 'EELKRIEEEIAAIEREIARAEEKLKAQESDPRKKGLQAEREKLLEKLAELRKERERLSRAEEEARRRATELRRRLE',\n",
    "                 '375-ALFA-LtoA-cdel' : 'EELKRIEEEIAAIEREIARAEEKLKAQESDPRKKGLQAEREKLLEKLAELRKERERLSRAEEEARRRATE'}\n",
    "\n",
    "#make df with columns 'Name and 'sequence' from dict\n",
    "bespoke_ctrls_df = pd.DataFrame.from_dict(bespoke_ctrls_dict, orient='index', columns=['sequence']).reset_index().rename(columns={'index': 'Name'})\n",
    "bespoke_ctrls_df.shape"
   ]
  },
  {
   "cell_type": "code",
   "execution_count": 16,
   "id": "8b35c2d0",
   "metadata": {},
   "outputs": [
    {
     "name": "stdout",
     "output_type": "stream",
     "text": [
      "(3611, 45)\n",
      "(1297, 45)\n",
      "(902, 45)\n",
      "(258, 45)\n",
      "(10882, 40)\n",
      "(3782, 40)\n",
      "(670, 40)\n",
      "(114, 40)\n"
     ]
    }
   ],
   "source": [
    "#take MSD sequences that are low RMSD to only one state, refilter for plddt > 90 and see how many\n",
    "r2_msd_exp_bbs_min0_path = '/Users/stephaniecrilly/Library/CloudStorage/Box-Box/kortemmelab/home/scrilly/helix_sliding/20250604_r2_hs_lib/metric_files/msd_exp_bbs/exp_bbs_msd_designs_passing_min0_only.csv'\n",
    "r2_msd_exp_bbs_min2_path = '/Users/stephaniecrilly/Library/CloudStorage/Box-Box/kortemmelab/home/scrilly/helix_sliding/20250604_r2_hs_lib/metric_files/msd_exp_bbs/exp_bbs_msd_designs_passing_min2_only.csv'\n",
    "r2_msd_min0_path = '/Users/stephaniecrilly/Library/CloudStorage/Box-Box/kortemmelab/home/scrilly/helix_sliding/20250604_r2_hs_lib/metric_files/msd/msd_designs_passing_min0_only.csv'\n",
    "r2_msd_min2_path = '/Users/stephaniecrilly/Library/CloudStorage/Box-Box/kortemmelab/home/scrilly/helix_sliding/20250604_r2_hs_lib/metric_files/msd/msd_designs_passing_min2_only.csv'\n",
    "\n",
    "r2_msd_exp_bbs_min0_df = pd.read_csv(r2_msd_exp_bbs_min0_path)\n",
    "print(r2_msd_exp_bbs_min0_df.shape)\n",
    "r2_msd_exp_bbs_min0_df = r2_msd_exp_bbs_min0_df.query('avg_plddt_no_loop > 90 & min0_all_rmsd_no_loop < 1.0  & avg_pae_no_loop < 3', engine='python').copy()\n",
    "print(r2_msd_exp_bbs_min0_df.shape)\n",
    "\n",
    "r2_msd_exp_bbs_min2_df = pd.read_csv(r2_msd_exp_bbs_min2_path)\n",
    "print(r2_msd_exp_bbs_min2_df.shape)\n",
    "r2_msd_exp_bbs_min2_df = r2_msd_exp_bbs_min2_df.query('avg_plddt_no_loop > 90  & min2_all_rmsd_no_loop < 1.0  & avg_pae_no_loop < 3', engine='python').copy()\n",
    "print(r2_msd_exp_bbs_min2_df.shape)\n",
    "\n",
    "r2_msd_min0_df = pd.read_csv(r2_msd_min0_path)\n",
    "print(r2_msd_min0_df.shape)\n",
    "r2_msd_min0_df = r2_msd_min0_df.query('avg_plddt_no_loop > 90  & min0_all_rmsd_no_loop < 1.0 & avg_pae_no_loop < 3', engine='python').copy()\n",
    "print(r2_msd_min0_df.shape)\n",
    "\n",
    "r2_msd_min2_df = pd.read_csv(r2_msd_min2_path)\n",
    "print(r2_msd_min2_df.shape)\n",
    "r2_msd_min2_df = r2_msd_min2_df.query('avg_plddt_no_loop > 90  & min2_all_rmsd_no_loop < 1.0  & avg_pae_no_loop < 3', engine='python').copy()\n",
    "print(r2_msd_min2_df.shape)\n"
   ]
  },
  {
   "cell_type": "markdown",
   "id": "9600fb03",
   "metadata": {},
   "source": [
    "#500 patterned scramble\n",
    "#500 full scramble\n",
    "#500 a and d to Ala \n",
    "#split 250/250 MPNN and F2s"
   ]
  },
  {
   "cell_type": "code",
   "execution_count": 32,
   "id": "4b216a6d",
   "metadata": {},
   "outputs": [],
   "source": [
    "def heptad_to_upper(input_string, split_char = 'r '):\n",
    "    split_1 = input_string.split(split_char)[0]\n",
    "    split_2 = input_string.split(split_char)[1]\n",
    "    split_2 = split_2.upper()\n",
    "    \n",
    "    new_string = split_1+split_char+split_2\n",
    "\n",
    "    return new_string\n",
    "\n",
    "# def make_heptad_strings(reg_string, seq_string):\n",
    "#     heptads_dict = {'a_residues' : [],\n",
    "#                     'b_residues' : [],\n",
    "#                     'c_residues' : [],\n",
    "#                     'd_residues' : [],\n",
    "#                     'e_residues' : [],\n",
    "#                     'f_residues' : [],\n",
    "#                     'g_residues' : []}\n",
    "    \n",
    "#     for index, char in enumerate(reg_string):\n",
    "#         if char.isupper():\n",
    "#             key = char.lower() + '_residues'\n",
    "#             if key in heptads_dict:\n",
    "#                 heptads_dict[key].append(seq_string[index])\n",
    "    \n",
    "#     for k, v in heptads_dict.items():\n",
    "#         heptads_dict[k] = ''.join(v)\n",
    "\n",
    "#     return heptads_dict\n",
    "\n",
    "####\n",
    "\n",
    "\n",
    "def heptad_a_d_to_ala(reg_string, seq_string):\n",
    "    ala_dict = {}\n",
    "\n",
    "    og_seq = re.split(r'\\s+', seq_string)[1]\n",
    "    \n",
    "    for index, char in enumerate(reg_string):\n",
    "        if char.isupper():\n",
    "            if char in ['A', 'D']:\n",
    "                seq_string = seq_string[:index] + 'A' + seq_string[index+1:]\n",
    "            else:\n",
    "                continue\n",
    "    \n",
    "    new_seq = re.split(r'\\s+', seq_string)[1]\n",
    "\n",
    "    ala_dict[og_seq] = new_seq\n",
    "\n",
    "    return ala_dict\n",
    "\n",
    "\n",
    "def get_heptad_res_identities(input_df):\n",
    "\n",
    "    h1_dfs_to_concat = []\n",
    "    h2_dfs_to_concat = []\n",
    "\n",
    "    for index, row in input_df.iterrows():\n",
    "        h1_reg = row['h1_reg']\n",
    "        new_h1_reg = heptad_to_upper(h1_reg)\n",
    "\n",
    "        h1_seq = row['h1_seq']\n",
    "\n",
    "        h1_dict = make_heptad_strings(new_h1_reg, h1_seq)\n",
    "        h1_df = pd.DataFrame([h1_dict])\n",
    "        h1_df['design_id'] = row['design_id']\n",
    "\n",
    "        h1_dfs_to_concat.append(h1_df)\n",
    "\n",
    "        h2_reg = row['h2_reg']\n",
    "        new_h2_reg = heptad_to_upper(h2_reg)\n",
    "\n",
    "        h2_seq = row['h2_seq']\n",
    "\n",
    "        h2_dict = make_heptad_strings(new_h2_reg, h2_seq)\n",
    "        h2_df = pd.DataFrame([h2_dict])\n",
    "        h2_df['design_id'] = row['design_id']\n",
    "\n",
    "        h2_dfs_to_concat.append(h2_df)\n",
    "    \n",
    "    h1_dfs = pd.concat(h1_dfs_to_concat)\n",
    "    h2_dfs = pd.concat(h2_dfs_to_concat)\n",
    "\n",
    "    h1_h2_df = h1_dfs.merge(h2_dfs, on='design_id', suffixes=['_h1', '_h2'])\n",
    "\n",
    "    new_df = input_df.merge(h1_h2_df, on='design_id')\n",
    "\n",
    "    return new_df\n"
   ]
  },
  {
   "cell_type": "code",
   "execution_count": null,
   "id": "99e2420c",
   "metadata": {},
   "outputs": [
    {
     "name": "stdout",
     "output_type": "stream",
     "text": [
      "register       ABCDEFGABCDEFGABCDEFGABCD          \n",
      "{'PLREKLLELKERLKELLELKLEELSRLEEELRRRLTEEERR': 'PLREKLAELAERLAELAELKAEEASRLAEEARRRLTEEERR'}\n"
     ]
    }
   ],
   "source": [
    "test_heptad = 'register       abcdefgabcdefgabcdefgabcd          '\n",
    "test_str = 'sequence PLREKLLELKERLKELLELKLEELSRLEEELRRRLTEEERR'\n",
    "\n",
    "import re\n",
    "new_heptad = heptad_to_upper(test_heptad)\n",
    "print(new_heptad)\n",
    "\n",
    "\n",
    "test_dict = heptad_a_d_to_ala(new_heptad, test_str)\n",
    "print(test_dict)\n",
    "\n",
    "#need to exclude alfa tag"
   ]
  },
  {
   "cell_type": "code",
   "execution_count": null,
   "id": "e4d2c7ee",
   "metadata": {},
   "outputs": [],
   "source": [
    "#generate post alfa truncated seqs from r1_hs_seqs and all others\n",
    "#then remove any of duplciates already in r2_ssd (should be 64)\n",
    "\n",
    "#update socket utils with new functions and push to cleaning\n",
    "#test for making a and d to Ala"
   ]
  }
 ],
 "metadata": {
  "kernelspec": {
   "display_name": "plotting",
   "language": "python",
   "name": "python3"
  },
  "language_info": {
   "codemirror_mode": {
    "name": "ipython",
    "version": 3
   },
   "file_extension": ".py",
   "mimetype": "text/x-python",
   "name": "python",
   "nbconvert_exporter": "python",
   "pygments_lexer": "ipython3",
   "version": "3.10.14"
  }
 },
 "nbformat": 4,
 "nbformat_minor": 5
}
